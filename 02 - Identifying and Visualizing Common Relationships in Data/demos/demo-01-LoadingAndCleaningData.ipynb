{
  "cells": [
    {
      "cell_type": "markdown",
      "metadata": {
        "id": "aWY6OH8OFivL"
      },
      "source": [
        "#### Python version"
      ]
    },
    {
      "cell_type": "code",
      "execution_count": 1,
      "metadata": {
        "colab": {
          "base_uri": "https://localhost:8080/"
        },
        "id": "ZUslM5bRFivQ",
        "outputId": "0e9fbadc-59b5-44c6-9833-642b36edab1c"
      },
      "outputs": [
        {
          "output_type": "stream",
          "name": "stdout",
          "text": [
            "Python 3.7.12\n"
          ]
        }
      ],
      "source": [
        "!python --version"
      ]
    },
    {
      "cell_type": "markdown",
      "metadata": {
        "id": "CuJDHCIYFivT"
      },
      "source": [
        "#### Installating libraries"
      ]
    },
    {
      "cell_type": "code",
      "execution_count": null,
      "metadata": {
        "id": "3xW609fcFivT",
        "outputId": "7f69b839-7b36-42cd-d71d-dfa46665a15e"
      },
      "outputs": [
        {
          "name": "stdout",
          "output_type": "stream",
          "text": [
            "Requirement already satisfied: matplotlib in /anaconda3/lib/python3.7/site-packages (3.1.1)\n",
            "Requirement already satisfied: cycler>=0.10 in /anaconda3/lib/python3.7/site-packages (from matplotlib) (0.10.0)\n",
            "Requirement already satisfied: kiwisolver>=1.0.1 in /anaconda3/lib/python3.7/site-packages (from matplotlib) (1.1.0)\n",
            "Requirement already satisfied: pyparsing!=2.0.4,!=2.1.2,!=2.1.6,>=2.0.1 in /anaconda3/lib/python3.7/site-packages (from matplotlib) (2.4.0)\n",
            "Requirement already satisfied: python-dateutil>=2.1 in /anaconda3/lib/python3.7/site-packages (from matplotlib) (2.8.0)\n",
            "Requirement already satisfied: numpy>=1.11 in /anaconda3/lib/python3.7/site-packages (from matplotlib) (1.16.5)\n",
            "Requirement already satisfied: six in /anaconda3/lib/python3.7/site-packages (from cycler>=0.10->matplotlib) (1.12.0)\n",
            "Requirement already satisfied: setuptools in /anaconda3/lib/python3.7/site-packages (from kiwisolver>=1.0.1->matplotlib) (41.0.1)\n"
          ]
        }
      ],
      "source": [
        "!pip install matplotlib"
      ]
    },
    {
      "cell_type": "code",
      "execution_count": null,
      "metadata": {
        "id": "aEJneWWkFivU",
        "outputId": "ce231c4d-6bf3-4ed5-c4f9-e1c2a8433f84"
      },
      "outputs": [
        {
          "name": "stdout",
          "output_type": "stream",
          "text": [
            "Requirement already satisfied: pandas in /anaconda3/lib/python3.7/site-packages (0.25.1)\n",
            "Requirement already satisfied: pytz>=2017.2 in /anaconda3/lib/python3.7/site-packages (from pandas) (2019.1)\n",
            "Requirement already satisfied: numpy>=1.13.3 in /anaconda3/lib/python3.7/site-packages (from pandas) (1.16.5)\n",
            "Requirement already satisfied: python-dateutil>=2.6.1 in /anaconda3/lib/python3.7/site-packages (from pandas) (2.8.0)\n",
            "Requirement already satisfied: six>=1.5 in /anaconda3/lib/python3.7/site-packages (from python-dateutil>=2.6.1->pandas) (1.12.0)\n"
          ]
        }
      ],
      "source": [
        "!pip install pandas"
      ]
    },
    {
      "cell_type": "markdown",
      "metadata": {
        "id": "HwUNYhJZFivU"
      },
      "source": [
        "#### Version of matplotlib"
      ]
    },
    {
      "cell_type": "code",
      "execution_count": 2,
      "metadata": {
        "id": "OOWThtFaFivV"
      },
      "outputs": [],
      "source": [
        "import matplotlib\n",
        "import pandas as pd\n",
        "\n",
        "import matplotlib.pyplot as plt"
      ]
    },
    {
      "cell_type": "code",
      "execution_count": 3,
      "metadata": {
        "colab": {
          "base_uri": "https://localhost:8080/",
          "height": 35
        },
        "id": "TEY0WMW5FivW",
        "outputId": "5632f5d0-c53e-413d-af3d-9b4af74e60a9"
      },
      "outputs": [
        {
          "output_type": "execute_result",
          "data": {
            "application/vnd.google.colaboratory.intrinsic+json": {
              "type": "string"
            },
            "text/plain": [
              "'3.2.2'"
            ]
          },
          "metadata": {},
          "execution_count": 3
        }
      ],
      "source": [
        "matplotlib.__version__"
      ]
    },
    {
      "cell_type": "code",
      "execution_count": 4,
      "metadata": {
        "colab": {
          "base_uri": "https://localhost:8080/",
          "height": 35
        },
        "id": "84KL_Lz7FivX",
        "outputId": "22c9e215-9b61-45b5-bd18-194b318f3fb8"
      },
      "outputs": [
        {
          "output_type": "execute_result",
          "data": {
            "application/vnd.google.colaboratory.intrinsic+json": {
              "type": "string"
            },
            "text/plain": [
              "'1.3.5'"
            ]
          },
          "metadata": {},
          "execution_count": 4
        }
      ],
      "source": [
        "pd.__version__"
      ]
    },
    {
      "cell_type": "code",
      "source": [
        "# Adding Demo Datasets Base URL\n",
        "datasets_folder_url = \"https://raw.githubusercontent.com/supermalang/ideal-octo-spork/main/02%20-%20Identifying%20and%20Visualizing%20Common%20Relationships%20in%20Data/demos/\""
      ],
      "metadata": {
        "id": "Pc9VEpE5JeaE"
      },
      "execution_count": 7,
      "outputs": []
    },
    {
      "cell_type": "markdown",
      "metadata": {
        "id": "Ydq6yA1WFivX"
      },
      "source": [
        "### US Oil and Gas Production June 2008 to June 2018\n",
        "\n",
        "https://www.kaggle.com/djzurawski/us-oil-and-gas-production-june-2008-to-june-2018\n",
        "\n",
        "* Month - Defines the date of crudeoil production (First day of the month)\n",
        "* U.S. Crude Oil - Total amount of production each month for 10 years(2008-2018)\n",
        "* Other columns are the cities which has the crude oil production"
      ]
    },
    {
      "cell_type": "code",
      "execution_count": 8,
      "metadata": {
        "colab": {
          "base_uri": "https://localhost:8080/",
          "height": 444
        },
        "id": "C-IWX300FivY",
        "outputId": "af68dddb-3b1c-480d-ec60-a88d6ffd5c34"
      },
      "outputs": [
        {
          "output_type": "execute_result",
          "data": {
            "text/html": [
              "\n",
              "  <div id=\"df-35c515e0-5afb-49e7-91be-68d8c11be617\">\n",
              "    <div class=\"colab-df-container\">\n",
              "      <div>\n",
              "<style scoped>\n",
              "    .dataframe tbody tr th:only-of-type {\n",
              "        vertical-align: middle;\n",
              "    }\n",
              "\n",
              "    .dataframe tbody tr th {\n",
              "        vertical-align: top;\n",
              "    }\n",
              "\n",
              "    .dataframe thead th {\n",
              "        text-align: right;\n",
              "    }\n",
              "</style>\n",
              "<table border=\"1\" class=\"dataframe\">\n",
              "  <thead>\n",
              "    <tr style=\"text-align: right;\">\n",
              "      <th></th>\n",
              "      <th>Month</th>\n",
              "      <th>U.S. Crude Oil</th>\n",
              "      <th>Alabama</th>\n",
              "      <th>Alaska</th>\n",
              "      <th>Arkansas</th>\n",
              "      <th>Arizona</th>\n",
              "      <th>California</th>\n",
              "      <th>Colorado</th>\n",
              "      <th>Federal Offshore Gulf of Mexico Crude Oil</th>\n",
              "      <th>Federal Offshore Pacific Crude Oil</th>\n",
              "      <th>Florida</th>\n",
              "      <th>Idaho</th>\n",
              "      <th>Illinois</th>\n",
              "      <th>Indiana</th>\n",
              "      <th>Kansas</th>\n",
              "      <th>Kentucky</th>\n",
              "      <th>Louisiana</th>\n",
              "      <th>Michigan</th>\n",
              "      <th>Mississippi</th>\n",
              "      <th>Missouri</th>\n",
              "      <th>Nebraska</th>\n",
              "      <th>Montana</th>\n",
              "      <th>Nevada</th>\n",
              "      <th>New Mexico</th>\n",
              "      <th>New York</th>\n",
              "      <th>North Dakota</th>\n",
              "      <th>Ohio</th>\n",
              "      <th>Oklahoma</th>\n",
              "      <th>Pennsylvania</th>\n",
              "      <th>South Dakota</th>\n",
              "      <th>Wyoming</th>\n",
              "      <th>West Virginia</th>\n",
              "      <th>Virginia</th>\n",
              "      <th>Utah</th>\n",
              "      <th>Texas</th>\n",
              "      <th>Tennessee</th>\n",
              "    </tr>\n",
              "  </thead>\n",
              "  <tbody>\n",
              "    <tr>\n",
              "      <th>0</th>\n",
              "      <td>2008-06-01</td>\n",
              "      <td>5138</td>\n",
              "      <td>21</td>\n",
              "      <td>655</td>\n",
              "      <td>17</td>\n",
              "      <td>0</td>\n",
              "      <td>583</td>\n",
              "      <td>82</td>\n",
              "      <td>1326</td>\n",
              "      <td>67</td>\n",
              "      <td>5</td>\n",
              "      <td>0</td>\n",
              "      <td>26</td>\n",
              "      <td>5</td>\n",
              "      <td>107</td>\n",
              "      <td>5</td>\n",
              "      <td>215</td>\n",
              "      <td>17</td>\n",
              "      <td>65</td>\n",
              "      <td>0</td>\n",
              "      <td>6</td>\n",
              "      <td>86</td>\n",
              "      <td>1</td>\n",
              "      <td>161</td>\n",
              "      <td>1</td>\n",
              "      <td>165</td>\n",
              "      <td>14</td>\n",
              "      <td>186</td>\n",
              "      <td>8</td>\n",
              "      <td>5</td>\n",
              "      <td>144</td>\n",
              "      <td>6</td>\n",
              "      <td>0</td>\n",
              "      <td>60</td>\n",
              "      <td>1097</td>\n",
              "      <td>1</td>\n",
              "    </tr>\n",
              "    <tr>\n",
              "      <th>1</th>\n",
              "      <td>2008-07-01</td>\n",
              "      <td>5177</td>\n",
              "      <td>21</td>\n",
              "      <td>640</td>\n",
              "      <td>17</td>\n",
              "      <td>0</td>\n",
              "      <td>586</td>\n",
              "      <td>81</td>\n",
              "      <td>1372</td>\n",
              "      <td>61</td>\n",
              "      <td>6</td>\n",
              "      <td>0</td>\n",
              "      <td>27</td>\n",
              "      <td>5</td>\n",
              "      <td>103</td>\n",
              "      <td>7</td>\n",
              "      <td>214</td>\n",
              "      <td>17</td>\n",
              "      <td>60</td>\n",
              "      <td>0</td>\n",
              "      <td>6</td>\n",
              "      <td>84</td>\n",
              "      <td>1</td>\n",
              "      <td>163</td>\n",
              "      <td>1</td>\n",
              "      <td>172</td>\n",
              "      <td>14</td>\n",
              "      <td>184</td>\n",
              "      <td>8</td>\n",
              "      <td>5</td>\n",
              "      <td>145</td>\n",
              "      <td>5</td>\n",
              "      <td>0</td>\n",
              "      <td>61</td>\n",
              "      <td>1111</td>\n",
              "      <td>1</td>\n",
              "    </tr>\n",
              "    <tr>\n",
              "      <th>2</th>\n",
              "      <td>2008-08-01</td>\n",
              "      <td>5003</td>\n",
              "      <td>21</td>\n",
              "      <td>544</td>\n",
              "      <td>17</td>\n",
              "      <td>0</td>\n",
              "      <td>588</td>\n",
              "      <td>82</td>\n",
              "      <td>1272</td>\n",
              "      <td>70</td>\n",
              "      <td>5</td>\n",
              "      <td>0</td>\n",
              "      <td>26</td>\n",
              "      <td>5</td>\n",
              "      <td>110</td>\n",
              "      <td>10</td>\n",
              "      <td>203</td>\n",
              "      <td>17</td>\n",
              "      <td>59</td>\n",
              "      <td>0</td>\n",
              "      <td>7</td>\n",
              "      <td>84</td>\n",
              "      <td>1</td>\n",
              "      <td>163</td>\n",
              "      <td>1</td>\n",
              "      <td>178</td>\n",
              "      <td>14</td>\n",
              "      <td>188</td>\n",
              "      <td>8</td>\n",
              "      <td>5</td>\n",
              "      <td>145</td>\n",
              "      <td>6</td>\n",
              "      <td>0</td>\n",
              "      <td>62</td>\n",
              "      <td>1110</td>\n",
              "      <td>1</td>\n",
              "    </tr>\n",
              "    <tr>\n",
              "      <th>3</th>\n",
              "      <td>2008-09-01</td>\n",
              "      <td>3974</td>\n",
              "      <td>21</td>\n",
              "      <td>681</td>\n",
              "      <td>16</td>\n",
              "      <td>0</td>\n",
              "      <td>587</td>\n",
              "      <td>88</td>\n",
              "      <td>242</td>\n",
              "      <td>67</td>\n",
              "      <td>5</td>\n",
              "      <td>0</td>\n",
              "      <td>27</td>\n",
              "      <td>6</td>\n",
              "      <td>116</td>\n",
              "      <td>4</td>\n",
              "      <td>113</td>\n",
              "      <td>17</td>\n",
              "      <td>60</td>\n",
              "      <td>0</td>\n",
              "      <td>7</td>\n",
              "      <td>86</td>\n",
              "      <td>1</td>\n",
              "      <td>157</td>\n",
              "      <td>1</td>\n",
              "      <td>189</td>\n",
              "      <td>14</td>\n",
              "      <td>186</td>\n",
              "      <td>8</td>\n",
              "      <td>5</td>\n",
              "      <td>144</td>\n",
              "      <td>6</td>\n",
              "      <td>0</td>\n",
              "      <td>63</td>\n",
              "      <td>1055</td>\n",
              "      <td>1</td>\n",
              "    </tr>\n",
              "    <tr>\n",
              "      <th>4</th>\n",
              "      <td>2008-10-01</td>\n",
              "      <td>4738</td>\n",
              "      <td>21</td>\n",
              "      <td>716</td>\n",
              "      <td>17</td>\n",
              "      <td>0</td>\n",
              "      <td>586</td>\n",
              "      <td>86</td>\n",
              "      <td>803</td>\n",
              "      <td>66</td>\n",
              "      <td>6</td>\n",
              "      <td>0</td>\n",
              "      <td>26</td>\n",
              "      <td>6</td>\n",
              "      <td>111</td>\n",
              "      <td>8</td>\n",
              "      <td>186</td>\n",
              "      <td>17</td>\n",
              "      <td>64</td>\n",
              "      <td>0</td>\n",
              "      <td>7</td>\n",
              "      <td>86</td>\n",
              "      <td>1</td>\n",
              "      <td>169</td>\n",
              "      <td>1</td>\n",
              "      <td>203</td>\n",
              "      <td>14</td>\n",
              "      <td>185</td>\n",
              "      <td>8</td>\n",
              "      <td>5</td>\n",
              "      <td>145</td>\n",
              "      <td>6</td>\n",
              "      <td>0</td>\n",
              "      <td>64</td>\n",
              "      <td>1125</td>\n",
              "      <td>1</td>\n",
              "    </tr>\n",
              "  </tbody>\n",
              "</table>\n",
              "</div>\n",
              "      <button class=\"colab-df-convert\" onclick=\"convertToInteractive('df-35c515e0-5afb-49e7-91be-68d8c11be617')\"\n",
              "              title=\"Convert this dataframe to an interactive table.\"\n",
              "              style=\"display:none;\">\n",
              "        \n",
              "  <svg xmlns=\"http://www.w3.org/2000/svg\" height=\"24px\"viewBox=\"0 0 24 24\"\n",
              "       width=\"24px\">\n",
              "    <path d=\"M0 0h24v24H0V0z\" fill=\"none\"/>\n",
              "    <path d=\"M18.56 5.44l.94 2.06.94-2.06 2.06-.94-2.06-.94-.94-2.06-.94 2.06-2.06.94zm-11 1L8.5 8.5l.94-2.06 2.06-.94-2.06-.94L8.5 2.5l-.94 2.06-2.06.94zm10 10l.94 2.06.94-2.06 2.06-.94-2.06-.94-.94-2.06-.94 2.06-2.06.94z\"/><path d=\"M17.41 7.96l-1.37-1.37c-.4-.4-.92-.59-1.43-.59-.52 0-1.04.2-1.43.59L10.3 9.45l-7.72 7.72c-.78.78-.78 2.05 0 2.83L4 21.41c.39.39.9.59 1.41.59.51 0 1.02-.2 1.41-.59l7.78-7.78 2.81-2.81c.8-.78.8-2.07 0-2.86zM5.41 20L4 18.59l7.72-7.72 1.47 1.35L5.41 20z\"/>\n",
              "  </svg>\n",
              "      </button>\n",
              "      \n",
              "  <style>\n",
              "    .colab-df-container {\n",
              "      display:flex;\n",
              "      flex-wrap:wrap;\n",
              "      gap: 12px;\n",
              "    }\n",
              "\n",
              "    .colab-df-convert {\n",
              "      background-color: #E8F0FE;\n",
              "      border: none;\n",
              "      border-radius: 50%;\n",
              "      cursor: pointer;\n",
              "      display: none;\n",
              "      fill: #1967D2;\n",
              "      height: 32px;\n",
              "      padding: 0 0 0 0;\n",
              "      width: 32px;\n",
              "    }\n",
              "\n",
              "    .colab-df-convert:hover {\n",
              "      background-color: #E2EBFA;\n",
              "      box-shadow: 0px 1px 2px rgba(60, 64, 67, 0.3), 0px 1px 3px 1px rgba(60, 64, 67, 0.15);\n",
              "      fill: #174EA6;\n",
              "    }\n",
              "\n",
              "    [theme=dark] .colab-df-convert {\n",
              "      background-color: #3B4455;\n",
              "      fill: #D2E3FC;\n",
              "    }\n",
              "\n",
              "    [theme=dark] .colab-df-convert:hover {\n",
              "      background-color: #434B5C;\n",
              "      box-shadow: 0px 1px 3px 1px rgba(0, 0, 0, 0.15);\n",
              "      filter: drop-shadow(0px 1px 2px rgba(0, 0, 0, 0.3));\n",
              "      fill: #FFFFFF;\n",
              "    }\n",
              "  </style>\n",
              "\n",
              "      <script>\n",
              "        const buttonEl =\n",
              "          document.querySelector('#df-35c515e0-5afb-49e7-91be-68d8c11be617 button.colab-df-convert');\n",
              "        buttonEl.style.display =\n",
              "          google.colab.kernel.accessAllowed ? 'block' : 'none';\n",
              "\n",
              "        async function convertToInteractive(key) {\n",
              "          const element = document.querySelector('#df-35c515e0-5afb-49e7-91be-68d8c11be617');\n",
              "          const dataTable =\n",
              "            await google.colab.kernel.invokeFunction('convertToInteractive',\n",
              "                                                     [key], {});\n",
              "          if (!dataTable) return;\n",
              "\n",
              "          const docLinkHtml = 'Like what you see? Visit the ' +\n",
              "            '<a target=\"_blank\" href=https://colab.research.google.com/notebooks/data_table.ipynb>data table notebook</a>'\n",
              "            + ' to learn more about interactive tables.';\n",
              "          element.innerHTML = '';\n",
              "          dataTable['output_type'] = 'display_data';\n",
              "          await google.colab.output.renderOutput(dataTable, element);\n",
              "          const docLink = document.createElement('div');\n",
              "          docLink.innerHTML = docLinkHtml;\n",
              "          element.appendChild(docLink);\n",
              "        }\n",
              "      </script>\n",
              "    </div>\n",
              "  </div>\n",
              "  "
            ],
            "text/plain": [
              "        Month  U.S. Crude Oil   Alabama  ...  Utah  Texas  Tennessee\n",
              "0  2008-06-01             5138       21  ...    60   1097          1\n",
              "1  2008-07-01             5177       21  ...    61   1111          1\n",
              "2  2008-08-01             5003       21  ...    62   1110          1\n",
              "3  2008-09-01             3974       21  ...    63   1055          1\n",
              "4  2008-10-01             4738       21  ...    64   1125          1\n",
              "\n",
              "[5 rows x 36 columns]"
            ]
          },
          "metadata": {},
          "execution_count": 8
        }
      ],
      "source": [
        "crude_oil_data = pd.read_csv(datasets_folder_url+'datasets/U.S._crude_oil_production.csv')\n",
        "\n",
        "crude_oil_data.head(5)"
      ]
    },
    {
      "cell_type": "code",
      "execution_count": 11,
      "metadata": {
        "colab": {
          "base_uri": "https://localhost:8080/",
          "height": 444
        },
        "id": "R8qWdG4CFivY",
        "outputId": "3f1bbb44-d4e3-4a5d-dfdc-7fef2b802040"
      },
      "outputs": [
        {
          "output_type": "execute_result",
          "data": {
            "text/html": [
              "\n",
              "  <div id=\"df-37eb1162-82df-4717-980a-1c5e99ad62e3\">\n",
              "    <div class=\"colab-df-container\">\n",
              "      <div>\n",
              "<style scoped>\n",
              "    .dataframe tbody tr th:only-of-type {\n",
              "        vertical-align: middle;\n",
              "    }\n",
              "\n",
              "    .dataframe tbody tr th {\n",
              "        vertical-align: top;\n",
              "    }\n",
              "\n",
              "    .dataframe thead th {\n",
              "        text-align: right;\n",
              "    }\n",
              "</style>\n",
              "<table border=\"1\" class=\"dataframe\">\n",
              "  <thead>\n",
              "    <tr style=\"text-align: right;\">\n",
              "      <th></th>\n",
              "      <th>Month</th>\n",
              "      <th>U.S. Crude Oil</th>\n",
              "      <th>Alabama</th>\n",
              "      <th>Alaska</th>\n",
              "      <th>Arkansas</th>\n",
              "      <th>Arizona</th>\n",
              "      <th>California</th>\n",
              "      <th>Colorado</th>\n",
              "      <th>Federal Offshore Gulf of Mexico Crude Oil</th>\n",
              "      <th>Federal Offshore Pacific Crude Oil</th>\n",
              "      <th>Florida</th>\n",
              "      <th>Idaho</th>\n",
              "      <th>Illinois</th>\n",
              "      <th>Indiana</th>\n",
              "      <th>Kansas</th>\n",
              "      <th>Kentucky</th>\n",
              "      <th>Louisiana</th>\n",
              "      <th>Michigan</th>\n",
              "      <th>Mississippi</th>\n",
              "      <th>Missouri</th>\n",
              "      <th>Nebraska</th>\n",
              "      <th>Montana</th>\n",
              "      <th>Nevada</th>\n",
              "      <th>New Mexico</th>\n",
              "      <th>New York</th>\n",
              "      <th>North Dakota</th>\n",
              "      <th>Ohio</th>\n",
              "      <th>Oklahoma</th>\n",
              "      <th>Pennsylvania</th>\n",
              "      <th>South Dakota</th>\n",
              "      <th>Wyoming</th>\n",
              "      <th>West Virginia</th>\n",
              "      <th>Virginia</th>\n",
              "      <th>Utah</th>\n",
              "      <th>Texas</th>\n",
              "      <th>Tennessee</th>\n",
              "    </tr>\n",
              "  </thead>\n",
              "  <tbody>\n",
              "    <tr>\n",
              "      <th>116</th>\n",
              "      <td>2018-02-01</td>\n",
              "      <td>10248</td>\n",
              "      <td>17</td>\n",
              "      <td>513</td>\n",
              "      <td>14</td>\n",
              "      <td>0</td>\n",
              "      <td>463</td>\n",
              "      <td>428</td>\n",
              "      <td>1704</td>\n",
              "      <td>14</td>\n",
              "      <td>5</td>\n",
              "      <td>0</td>\n",
              "      <td>22</td>\n",
              "      <td>5</td>\n",
              "      <td>96</td>\n",
              "      <td>4</td>\n",
              "      <td>131</td>\n",
              "      <td>15</td>\n",
              "      <td>48</td>\n",
              "      <td>0</td>\n",
              "      <td>5</td>\n",
              "      <td>56</td>\n",
              "      <td>1</td>\n",
              "      <td>586</td>\n",
              "      <td>1</td>\n",
              "      <td>1151</td>\n",
              "      <td>54</td>\n",
              "      <td>527</td>\n",
              "      <td>18</td>\n",
              "      <td>4</td>\n",
              "      <td>223</td>\n",
              "      <td>27</td>\n",
              "      <td>0</td>\n",
              "      <td>100</td>\n",
              "      <td>4015</td>\n",
              "      <td>1</td>\n",
              "    </tr>\n",
              "    <tr>\n",
              "      <th>117</th>\n",
              "      <td>2018-03-01</td>\n",
              "      <td>10461</td>\n",
              "      <td>17</td>\n",
              "      <td>512</td>\n",
              "      <td>14</td>\n",
              "      <td>0</td>\n",
              "      <td>462</td>\n",
              "      <td>428</td>\n",
              "      <td>1681</td>\n",
              "      <td>16</td>\n",
              "      <td>5</td>\n",
              "      <td>0</td>\n",
              "      <td>23</td>\n",
              "      <td>5</td>\n",
              "      <td>97</td>\n",
              "      <td>12</td>\n",
              "      <td>131</td>\n",
              "      <td>14</td>\n",
              "      <td>47</td>\n",
              "      <td>0</td>\n",
              "      <td>6</td>\n",
              "      <td>53</td>\n",
              "      <td>1</td>\n",
              "      <td>623</td>\n",
              "      <td>1</td>\n",
              "      <td>1145</td>\n",
              "      <td>54</td>\n",
              "      <td>543</td>\n",
              "      <td>18</td>\n",
              "      <td>4</td>\n",
              "      <td>231</td>\n",
              "      <td>29</td>\n",
              "      <td>0</td>\n",
              "      <td>104</td>\n",
              "      <td>4185</td>\n",
              "      <td>1</td>\n",
              "    </tr>\n",
              "    <tr>\n",
              "      <th>118</th>\n",
              "      <td>2018-04-01</td>\n",
              "      <td>10475</td>\n",
              "      <td>17</td>\n",
              "      <td>497</td>\n",
              "      <td>14</td>\n",
              "      <td>0</td>\n",
              "      <td>465</td>\n",
              "      <td>447</td>\n",
              "      <td>1583</td>\n",
              "      <td>16</td>\n",
              "      <td>5</td>\n",
              "      <td>0</td>\n",
              "      <td>22</td>\n",
              "      <td>4</td>\n",
              "      <td>97</td>\n",
              "      <td>4</td>\n",
              "      <td>128</td>\n",
              "      <td>13</td>\n",
              "      <td>47</td>\n",
              "      <td>0</td>\n",
              "      <td>5</td>\n",
              "      <td>54</td>\n",
              "      <td>1</td>\n",
              "      <td>650</td>\n",
              "      <td>1</td>\n",
              "      <td>1211</td>\n",
              "      <td>54</td>\n",
              "      <td>531</td>\n",
              "      <td>19</td>\n",
              "      <td>4</td>\n",
              "      <td>232</td>\n",
              "      <td>29</td>\n",
              "      <td>0</td>\n",
              "      <td>103</td>\n",
              "      <td>4222</td>\n",
              "      <td>1</td>\n",
              "    </tr>\n",
              "    <tr>\n",
              "      <th>119</th>\n",
              "      <td>2018-05-01</td>\n",
              "      <td>10443</td>\n",
              "      <td>16</td>\n",
              "      <td>496</td>\n",
              "      <td>14</td>\n",
              "      <td>0</td>\n",
              "      <td>464</td>\n",
              "      <td>447</td>\n",
              "      <td>1504</td>\n",
              "      <td>15</td>\n",
              "      <td>5</td>\n",
              "      <td>0</td>\n",
              "      <td>24</td>\n",
              "      <td>5</td>\n",
              "      <td>97</td>\n",
              "      <td>7</td>\n",
              "      <td>130</td>\n",
              "      <td>14</td>\n",
              "      <td>48</td>\n",
              "      <td>0</td>\n",
              "      <td>5</td>\n",
              "      <td>54</td>\n",
              "      <td>1</td>\n",
              "      <td>652</td>\n",
              "      <td>1</td>\n",
              "      <td>1236</td>\n",
              "      <td>58</td>\n",
              "      <td>529</td>\n",
              "      <td>19</td>\n",
              "      <td>3</td>\n",
              "      <td>228</td>\n",
              "      <td>29</td>\n",
              "      <td>0</td>\n",
              "      <td>97</td>\n",
              "      <td>4245</td>\n",
              "      <td>1</td>\n",
              "    </tr>\n",
              "    <tr>\n",
              "      <th>120</th>\n",
              "      <td>2018-06-01</td>\n",
              "      <td>10674</td>\n",
              "      <td>16</td>\n",
              "      <td>451</td>\n",
              "      <td>14</td>\n",
              "      <td>0</td>\n",
              "      <td>462</td>\n",
              "      <td>423</td>\n",
              "      <td>1658</td>\n",
              "      <td>15</td>\n",
              "      <td>5</td>\n",
              "      <td>0</td>\n",
              "      <td>23</td>\n",
              "      <td>5</td>\n",
              "      <td>96</td>\n",
              "      <td>9</td>\n",
              "      <td>129</td>\n",
              "      <td>15</td>\n",
              "      <td>47</td>\n",
              "      <td>0</td>\n",
              "      <td>5</td>\n",
              "      <td>52</td>\n",
              "      <td>1</td>\n",
              "      <td>657</td>\n",
              "      <td>1</td>\n",
              "      <td>1220</td>\n",
              "      <td>65</td>\n",
              "      <td>526</td>\n",
              "      <td>18</td>\n",
              "      <td>4</td>\n",
              "      <td>226</td>\n",
              "      <td>30</td>\n",
              "      <td>0</td>\n",
              "      <td>94</td>\n",
              "      <td>4410</td>\n",
              "      <td>1</td>\n",
              "    </tr>\n",
              "  </tbody>\n",
              "</table>\n",
              "</div>\n",
              "      <button class=\"colab-df-convert\" onclick=\"convertToInteractive('df-37eb1162-82df-4717-980a-1c5e99ad62e3')\"\n",
              "              title=\"Convert this dataframe to an interactive table.\"\n",
              "              style=\"display:none;\">\n",
              "        \n",
              "  <svg xmlns=\"http://www.w3.org/2000/svg\" height=\"24px\"viewBox=\"0 0 24 24\"\n",
              "       width=\"24px\">\n",
              "    <path d=\"M0 0h24v24H0V0z\" fill=\"none\"/>\n",
              "    <path d=\"M18.56 5.44l.94 2.06.94-2.06 2.06-.94-2.06-.94-.94-2.06-.94 2.06-2.06.94zm-11 1L8.5 8.5l.94-2.06 2.06-.94-2.06-.94L8.5 2.5l-.94 2.06-2.06.94zm10 10l.94 2.06.94-2.06 2.06-.94-2.06-.94-.94-2.06-.94 2.06-2.06.94z\"/><path d=\"M17.41 7.96l-1.37-1.37c-.4-.4-.92-.59-1.43-.59-.52 0-1.04.2-1.43.59L10.3 9.45l-7.72 7.72c-.78.78-.78 2.05 0 2.83L4 21.41c.39.39.9.59 1.41.59.51 0 1.02-.2 1.41-.59l7.78-7.78 2.81-2.81c.8-.78.8-2.07 0-2.86zM5.41 20L4 18.59l7.72-7.72 1.47 1.35L5.41 20z\"/>\n",
              "  </svg>\n",
              "      </button>\n",
              "      \n",
              "  <style>\n",
              "    .colab-df-container {\n",
              "      display:flex;\n",
              "      flex-wrap:wrap;\n",
              "      gap: 12px;\n",
              "    }\n",
              "\n",
              "    .colab-df-convert {\n",
              "      background-color: #E8F0FE;\n",
              "      border: none;\n",
              "      border-radius: 50%;\n",
              "      cursor: pointer;\n",
              "      display: none;\n",
              "      fill: #1967D2;\n",
              "      height: 32px;\n",
              "      padding: 0 0 0 0;\n",
              "      width: 32px;\n",
              "    }\n",
              "\n",
              "    .colab-df-convert:hover {\n",
              "      background-color: #E2EBFA;\n",
              "      box-shadow: 0px 1px 2px rgba(60, 64, 67, 0.3), 0px 1px 3px 1px rgba(60, 64, 67, 0.15);\n",
              "      fill: #174EA6;\n",
              "    }\n",
              "\n",
              "    [theme=dark] .colab-df-convert {\n",
              "      background-color: #3B4455;\n",
              "      fill: #D2E3FC;\n",
              "    }\n",
              "\n",
              "    [theme=dark] .colab-df-convert:hover {\n",
              "      background-color: #434B5C;\n",
              "      box-shadow: 0px 1px 3px 1px rgba(0, 0, 0, 0.15);\n",
              "      filter: drop-shadow(0px 1px 2px rgba(0, 0, 0, 0.3));\n",
              "      fill: #FFFFFF;\n",
              "    }\n",
              "  </style>\n",
              "\n",
              "      <script>\n",
              "        const buttonEl =\n",
              "          document.querySelector('#df-37eb1162-82df-4717-980a-1c5e99ad62e3 button.colab-df-convert');\n",
              "        buttonEl.style.display =\n",
              "          google.colab.kernel.accessAllowed ? 'block' : 'none';\n",
              "\n",
              "        async function convertToInteractive(key) {\n",
              "          const element = document.querySelector('#df-37eb1162-82df-4717-980a-1c5e99ad62e3');\n",
              "          const dataTable =\n",
              "            await google.colab.kernel.invokeFunction('convertToInteractive',\n",
              "                                                     [key], {});\n",
              "          if (!dataTable) return;\n",
              "\n",
              "          const docLinkHtml = 'Like what you see? Visit the ' +\n",
              "            '<a target=\"_blank\" href=https://colab.research.google.com/notebooks/data_table.ipynb>data table notebook</a>'\n",
              "            + ' to learn more about interactive tables.';\n",
              "          element.innerHTML = '';\n",
              "          dataTable['output_type'] = 'display_data';\n",
              "          await google.colab.output.renderOutput(dataTable, element);\n",
              "          const docLink = document.createElement('div');\n",
              "          docLink.innerHTML = docLinkHtml;\n",
              "          element.appendChild(docLink);\n",
              "        }\n",
              "      </script>\n",
              "    </div>\n",
              "  </div>\n",
              "  "
            ],
            "text/plain": [
              "          Month  U.S. Crude Oil   Alabama  ...  Utah  Texas  Tennessee\n",
              "116  2018-02-01            10248       17  ...   100   4015          1\n",
              "117  2018-03-01            10461       17  ...   104   4185          1\n",
              "118  2018-04-01            10475       17  ...   103   4222          1\n",
              "119  2018-05-01            10443       16  ...    97   4245          1\n",
              "120  2018-06-01            10674       16  ...    94   4410          1\n",
              "\n",
              "[5 rows x 36 columns]"
            ]
          },
          "metadata": {},
          "execution_count": 11
        }
      ],
      "source": [
        "crude_oil_data.tail()"
      ]
    },
    {
      "cell_type": "code",
      "execution_count": 12,
      "metadata": {
        "colab": {
          "base_uri": "https://localhost:8080/"
        },
        "id": "is1VvYrcFivZ",
        "outputId": "a4f80ba5-233d-4d14-ce2e-ed0a66223f8a"
      },
      "outputs": [
        {
          "output_type": "execute_result",
          "data": {
            "text/plain": [
              "(121, 36)"
            ]
          },
          "metadata": {},
          "execution_count": 12
        }
      ],
      "source": [
        "crude_oil_data.shape"
      ]
    },
    {
      "cell_type": "code",
      "execution_count": 13,
      "metadata": {
        "colab": {
          "base_uri": "https://localhost:8080/"
        },
        "id": "3w5tZVJCFivZ",
        "outputId": "0b3da037-ac3c-4364-ec3b-6fa9999feeb0"
      },
      "outputs": [
        {
          "output_type": "execute_result",
          "data": {
            "text/plain": [
              "Index(['Month', 'U.S. Crude Oil ', 'Alabama', 'Alaska', 'Arkansas', 'Arizona',\n",
              "       'California', 'Colorado', 'Federal Offshore Gulf of Mexico Crude Oil',\n",
              "       'Federal Offshore Pacific Crude Oil', 'Florida', 'Idaho', 'Illinois',\n",
              "       'Indiana', 'Kansas', 'Kentucky', 'Louisiana', 'Michigan', 'Mississippi',\n",
              "       'Missouri', 'Nebraska', 'Montana', 'Nevada', 'New Mexico', 'New York',\n",
              "       'North Dakota', 'Ohio', 'Oklahoma', 'Pennsylvania', 'South Dakota',\n",
              "       'Wyoming', 'West Virginia', 'Virginia', 'Utah', 'Texas', 'Tennessee'],\n",
              "      dtype='object')"
            ]
          },
          "metadata": {},
          "execution_count": 13
        }
      ],
      "source": [
        "crude_oil_data.columns"
      ]
    },
    {
      "cell_type": "code",
      "execution_count": 15,
      "metadata": {
        "colab": {
          "base_uri": "https://localhost:8080/"
        },
        "id": "H6eP-pqzFiva",
        "outputId": "6eb50b4a-097b-4644-abc6-e8dd9468a95f"
      },
      "outputs": [
        {
          "output_type": "execute_result",
          "data": {
            "text/plain": [
              "Index(['Arizona', 'Virginia'], dtype='object')"
            ]
          },
          "metadata": {},
          "execution_count": 15
        }
      ],
      "source": [
        "crude_oil_data.columns[(crude_oil_data.sum(axis=0)) == 0]"
      ]
    },
    {
      "cell_type": "code",
      "execution_count": 16,
      "metadata": {
        "colab": {
          "base_uri": "https://localhost:8080/"
        },
        "id": "F8b5MuOhFiva",
        "outputId": "e37dadcb-412d-438d-d9f9-90b48bfc3069"
      },
      "outputs": [
        {
          "output_type": "execute_result",
          "data": {
            "text/plain": [
              "Index(['Month', 'U.S. Crude Oil ', 'Alabama', 'Alaska', 'Arkansas',\n",
              "       'California', 'Colorado', 'Federal Offshore Gulf of Mexico Crude Oil',\n",
              "       'Federal Offshore Pacific Crude Oil', 'Florida', 'Idaho', 'Illinois',\n",
              "       'Indiana', 'Kansas', 'Kentucky', 'Louisiana', 'Michigan', 'Mississippi',\n",
              "       'Missouri', 'Nebraska', 'Montana', 'Nevada', 'New Mexico', 'New York',\n",
              "       'North Dakota', 'Ohio', 'Oklahoma', 'Pennsylvania', 'South Dakota',\n",
              "       'Wyoming', 'West Virginia', 'Utah', 'Texas', 'Tennessee'],\n",
              "      dtype='object')"
            ]
          },
          "metadata": {},
          "execution_count": 16
        }
      ],
      "source": [
        "crude_oil_data.drop(['Arizona', 'Virginia'], inplace=True, axis=1)\n",
        "\n",
        "crude_oil_data.columns"
      ]
    },
    {
      "cell_type": "code",
      "execution_count": 19,
      "metadata": {
        "colab": {
          "base_uri": "https://localhost:8080/"
        },
        "id": "fKOrQUuoFivb",
        "outputId": "1a48716e-490b-4e93-ebf6-ab883981d0ae"
      },
      "outputs": [
        {
          "output_type": "execute_result",
          "data": {
            "text/plain": [
              "0   2008-06-01\n",
              "1   2008-07-01\n",
              "2   2008-08-01\n",
              "3   2008-09-01\n",
              "4   2008-10-01\n",
              "Name: Date, dtype: datetime64[ns]"
            ]
          },
          "metadata": {},
          "execution_count": 19
        }
      ],
      "source": [
        "crude_oil_data['Date'] = pd.to_datetime(crude_oil_data['Month'])\n",
        "\n",
        "crude_oil_data['Date'].head()"
      ]
    },
    {
      "cell_type": "code",
      "execution_count": 20,
      "metadata": {
        "colab": {
          "base_uri": "https://localhost:8080/"
        },
        "id": "lMnErjzVFivb",
        "outputId": "464ca276-e02b-466a-9854-d817086fab0c"
      },
      "outputs": [
        {
          "output_type": "execute_result",
          "data": {
            "text/plain": [
              "Index(['U.S. Crude Oil ', 'Alabama', 'Alaska', 'Arkansas', 'California',\n",
              "       'Colorado', 'Federal Offshore Gulf of Mexico Crude Oil',\n",
              "       'Federal Offshore Pacific Crude Oil', 'Florida', 'Idaho', 'Illinois',\n",
              "       'Indiana', 'Kansas', 'Kentucky', 'Louisiana', 'Michigan', 'Mississippi',\n",
              "       'Missouri', 'Nebraska', 'Montana', 'Nevada', 'New Mexico', 'New York',\n",
              "       'North Dakota', 'Ohio', 'Oklahoma', 'Pennsylvania', 'South Dakota',\n",
              "       'Wyoming', 'West Virginia', 'Utah', 'Texas', 'Tennessee', 'Date'],\n",
              "      dtype='object')"
            ]
          },
          "metadata": {},
          "execution_count": 20
        }
      ],
      "source": [
        "crude_oil_data.drop('Month', inplace=True, axis=1)\n",
        "\n",
        "crude_oil_data.columns"
      ]
    },
    {
      "cell_type": "markdown",
      "metadata": {
        "id": "TKbxlIJaFivb"
      },
      "source": [
        "#### Converting the Date column `Month` to pandas DatetimeIndex - For future use"
      ]
    },
    {
      "cell_type": "code",
      "execution_count": 21,
      "metadata": {
        "colab": {
          "base_uri": "https://localhost:8080/"
        },
        "id": "4ARXE8XSFivb",
        "outputId": "3b5cb1c0-b7b1-4b30-9f11-21e89ff5a3c5"
      },
      "outputs": [
        {
          "output_type": "execute_result",
          "data": {
            "text/plain": [
              "Index(['U.S. Crude Oil ', 'Alabama', 'Alaska', 'Arkansas', 'California',\n",
              "       'Colorado', 'Mexico', 'Pacific', 'Florida', 'Idaho', 'Illinois',\n",
              "       'Indiana', 'Kansas', 'Kentucky', 'Louisiana', 'Michigan', 'Mississippi',\n",
              "       'Missouri', 'Nebraska', 'Montana', 'Nevada', 'New Mexico', 'New York',\n",
              "       'North Dakota', 'Ohio', 'Oklahoma', 'Pennsylvania', 'South Dakota',\n",
              "       'Wyoming', 'West Virginia', 'Utah', 'Texas', 'Tennessee', 'Date'],\n",
              "      dtype='object')"
            ]
          },
          "metadata": {},
          "execution_count": 21
        }
      ],
      "source": [
        "crude_oil_data = crude_oil_data.rename(columns={'Federal Offshore Gulf of Mexico Crude Oil': 'Mexico', \n",
        "                                                'Federal Offshore Pacific Crude Oil': 'Pacific'})\n",
        "\n",
        "crude_oil_data.columns"
      ]
    },
    {
      "cell_type": "code",
      "execution_count": 24,
      "metadata": {
        "colab": {
          "base_uri": "https://localhost:8080/"
        },
        "id": "QQqrAHc_Fivc",
        "outputId": "5a37211f-da1b-441b-dbe5-e216c445f09f"
      },
      "outputs": [
        {
          "output_type": "execute_result",
          "data": {
            "text/plain": [
              "30     2010\n",
              "114    2017\n",
              "16     2009\n",
              "13     2009\n",
              "79     2015\n",
              "83     2015\n",
              "56     2013\n",
              "92     2016\n",
              "80     2015\n",
              "102    2016\n",
              "Name: Year, dtype: int64"
            ]
          },
          "metadata": {},
          "execution_count": 24
        }
      ],
      "source": [
        "crude_oil_data['Year'] = crude_oil_data['Date'].dt.year\n",
        "\n",
        "crude_oil_data['Year'].sample(10)"
      ]
    },
    {
      "cell_type": "code",
      "execution_count": 25,
      "metadata": {
        "colab": {
          "base_uri": "https://localhost:8080/"
        },
        "id": "8XMwvYfaFivd",
        "outputId": "6bfdd5f6-95e4-400f-f6b3-2442844519bb"
      },
      "outputs": [
        {
          "output_type": "execute_result",
          "data": {
            "text/plain": [
              "1       7\n",
              "105     3\n",
              "2       8\n",
              "78     12\n",
              "95      5\n",
              "93      3\n",
              "47      5\n",
              "15      9\n",
              "46      4\n",
              "58      4\n",
              "Name: Month, dtype: int64"
            ]
          },
          "metadata": {},
          "execution_count": 25
        }
      ],
      "source": [
        "crude_oil_data['Month'] = crude_oil_data['Date'].dt.month\n",
        "\n",
        "crude_oil_data['Month'].sample(10)"
      ]
    },
    {
      "cell_type": "markdown",
      "metadata": {
        "id": "gsvrG_jwFive"
      },
      "source": [
        "#### Saving back to dataset folder - for the usage of next demo"
      ]
    },
    {
      "cell_type": "code",
      "execution_count": 28,
      "metadata": {
        "id": "J4QATAerFive"
      },
      "outputs": [],
      "source": [
        "crude_oil_data.to_csv('crude_oil_data_processed-lab-2.csv', index = False)"
      ]
    },
    {
      "cell_type": "markdown",
      "metadata": {
        "id": "dDhJ4RXsFive"
      },
      "source": [
        "#### Describing the data"
      ]
    },
    {
      "cell_type": "code",
      "execution_count": 27,
      "metadata": {
        "colab": {
          "base_uri": "https://localhost:8080/",
          "height": 314
        },
        "id": "99br3tW1Fivf",
        "outputId": "62704138-477f-4bb6-9636-e7bb994d3c4f"
      },
      "outputs": [
        {
          "output_type": "execute_result",
          "data": {
            "text/html": [
              "\n",
              "  <div id=\"df-da98ec1d-cb93-407e-b9cc-87b8d7ada81c\">\n",
              "    <div class=\"colab-df-container\">\n",
              "      <div>\n",
              "<style scoped>\n",
              "    .dataframe tbody tr th:only-of-type {\n",
              "        vertical-align: middle;\n",
              "    }\n",
              "\n",
              "    .dataframe tbody tr th {\n",
              "        vertical-align: top;\n",
              "    }\n",
              "\n",
              "    .dataframe thead th {\n",
              "        text-align: right;\n",
              "    }\n",
              "</style>\n",
              "<table border=\"1\" class=\"dataframe\">\n",
              "  <thead>\n",
              "    <tr style=\"text-align: right;\">\n",
              "      <th></th>\n",
              "      <th>U.S. Crude Oil</th>\n",
              "      <th>Alabama</th>\n",
              "      <th>Alaska</th>\n",
              "      <th>Arkansas</th>\n",
              "      <th>California</th>\n",
              "      <th>Colorado</th>\n",
              "      <th>Mexico</th>\n",
              "      <th>Pacific</th>\n",
              "      <th>Florida</th>\n",
              "      <th>Idaho</th>\n",
              "      <th>Illinois</th>\n",
              "      <th>Indiana</th>\n",
              "      <th>Kansas</th>\n",
              "      <th>Kentucky</th>\n",
              "      <th>Louisiana</th>\n",
              "      <th>Michigan</th>\n",
              "      <th>Mississippi</th>\n",
              "      <th>Missouri</th>\n",
              "      <th>Nebraska</th>\n",
              "      <th>Montana</th>\n",
              "      <th>Nevada</th>\n",
              "      <th>New Mexico</th>\n",
              "      <th>New York</th>\n",
              "      <th>North Dakota</th>\n",
              "      <th>Ohio</th>\n",
              "      <th>Oklahoma</th>\n",
              "      <th>Pennsylvania</th>\n",
              "      <th>South Dakota</th>\n",
              "      <th>Wyoming</th>\n",
              "      <th>West Virginia</th>\n",
              "      <th>Utah</th>\n",
              "      <th>Texas</th>\n",
              "      <th>Tennessee</th>\n",
              "      <th>Year</th>\n",
              "      <th>Month</th>\n",
              "    </tr>\n",
              "  </thead>\n",
              "  <tbody>\n",
              "    <tr>\n",
              "      <th>count</th>\n",
              "      <td>121.000000</td>\n",
              "      <td>121.000000</td>\n",
              "      <td>121.000000</td>\n",
              "      <td>121.000000</td>\n",
              "      <td>121.000000</td>\n",
              "      <td>121.000000</td>\n",
              "      <td>121.000000</td>\n",
              "      <td>121.000000</td>\n",
              "      <td>121.000000</td>\n",
              "      <td>121.000000</td>\n",
              "      <td>121.000000</td>\n",
              "      <td>121.000000</td>\n",
              "      <td>121.000000</td>\n",
              "      <td>121.000000</td>\n",
              "      <td>121.000000</td>\n",
              "      <td>121.000000</td>\n",
              "      <td>121.000000</td>\n",
              "      <td>121.000000</td>\n",
              "      <td>121.000000</td>\n",
              "      <td>121.00000</td>\n",
              "      <td>121.0</td>\n",
              "      <td>121.000000</td>\n",
              "      <td>121.0</td>\n",
              "      <td>121.000000</td>\n",
              "      <td>121.000000</td>\n",
              "      <td>121.000000</td>\n",
              "      <td>121.000000</td>\n",
              "      <td>121.000000</td>\n",
              "      <td>121.000000</td>\n",
              "      <td>121.000000</td>\n",
              "      <td>121.000000</td>\n",
              "      <td>121.000000</td>\n",
              "      <td>121.0</td>\n",
              "      <td>121.000000</td>\n",
              "      <td>121.000000</td>\n",
              "    </tr>\n",
              "    <tr>\n",
              "      <th>mean</th>\n",
              "      <td>7423.694215</td>\n",
              "      <td>22.958678</td>\n",
              "      <td>540.404959</td>\n",
              "      <td>16.462810</td>\n",
              "      <td>536.388430</td>\n",
              "      <td>212.115702</td>\n",
              "      <td>1444.264463</td>\n",
              "      <td>43.115702</td>\n",
              "      <td>5.190083</td>\n",
              "      <td>0.066116</td>\n",
              "      <td>25.008264</td>\n",
              "      <td>5.619835</td>\n",
              "      <td>114.520661</td>\n",
              "      <td>7.041322</td>\n",
              "      <td>177.404959</td>\n",
              "      <td>18.016529</td>\n",
              "      <td>62.355372</td>\n",
              "      <td>0.223140</td>\n",
              "      <td>6.966942</td>\n",
              "      <td>71.53719</td>\n",
              "      <td>1.0</td>\n",
              "      <td>305.495868</td>\n",
              "      <td>1.0</td>\n",
              "      <td>746.380165</td>\n",
              "      <td>33.322314</td>\n",
              "      <td>321.611570</td>\n",
              "      <td>13.876033</td>\n",
              "      <td>4.504132</td>\n",
              "      <td>180.429752</td>\n",
              "      <td>16.471074</td>\n",
              "      <td>85.148760</td>\n",
              "      <td>2403.826446</td>\n",
              "      <td>1.0</td>\n",
              "      <td>2012.958678</td>\n",
              "      <td>6.495868</td>\n",
              "    </tr>\n",
              "    <tr>\n",
              "      <th>std</th>\n",
              "      <td>1801.581601</td>\n",
              "      <td>3.773585</td>\n",
              "      <td>73.691879</td>\n",
              "      <td>1.483472</td>\n",
              "      <td>33.228595</td>\n",
              "      <td>117.403165</td>\n",
              "      <td>216.197200</td>\n",
              "      <td>18.735523</td>\n",
              "      <td>1.273539</td>\n",
              "      <td>0.249517</td>\n",
              "      <td>1.744018</td>\n",
              "      <td>0.915207</td>\n",
              "      <td>12.587096</td>\n",
              "      <td>2.936542</td>\n",
              "      <td>22.316503</td>\n",
              "      <td>2.915429</td>\n",
              "      <td>7.282238</td>\n",
              "      <td>0.418083</td>\n",
              "      <td>1.175683</td>\n",
              "      <td>9.55165</td>\n",
              "      <td>0.0</td>\n",
              "      <td>128.069846</td>\n",
              "      <td>0.0</td>\n",
              "      <td>374.123158</td>\n",
              "      <td>22.429971</td>\n",
              "      <td>119.141958</td>\n",
              "      <td>4.497352</td>\n",
              "      <td>0.564564</td>\n",
              "      <td>34.097367</td>\n",
              "      <td>10.968952</td>\n",
              "      <td>16.662163</td>\n",
              "      <td>1025.413694</td>\n",
              "      <td>0.0</td>\n",
              "      <td>2.950697</td>\n",
              "      <td>3.452352</td>\n",
              "    </tr>\n",
              "    <tr>\n",
              "      <th>min</th>\n",
              "      <td>3974.000000</td>\n",
              "      <td>16.000000</td>\n",
              "      <td>398.000000</td>\n",
              "      <td>14.000000</td>\n",
              "      <td>461.000000</td>\n",
              "      <td>81.000000</td>\n",
              "      <td>242.000000</td>\n",
              "      <td>13.000000</td>\n",
              "      <td>2.000000</td>\n",
              "      <td>0.000000</td>\n",
              "      <td>19.000000</td>\n",
              "      <td>4.000000</td>\n",
              "      <td>92.000000</td>\n",
              "      <td>0.000000</td>\n",
              "      <td>113.000000</td>\n",
              "      <td>0.000000</td>\n",
              "      <td>45.000000</td>\n",
              "      <td>0.000000</td>\n",
              "      <td>4.000000</td>\n",
              "      <td>52.00000</td>\n",
              "      <td>1.0</td>\n",
              "      <td>157.000000</td>\n",
              "      <td>1.0</td>\n",
              "      <td>165.000000</td>\n",
              "      <td>13.000000</td>\n",
              "      <td>152.000000</td>\n",
              "      <td>8.000000</td>\n",
              "      <td>3.000000</td>\n",
              "      <td>137.000000</td>\n",
              "      <td>3.000000</td>\n",
              "      <td>59.000000</td>\n",
              "      <td>1055.000000</td>\n",
              "      <td>1.0</td>\n",
              "      <td>2008.000000</td>\n",
              "      <td>1.000000</td>\n",
              "    </tr>\n",
              "    <tr>\n",
              "      <th>25%</th>\n",
              "      <td>5555.000000</td>\n",
              "      <td>20.000000</td>\n",
              "      <td>497.000000</td>\n",
              "      <td>15.000000</td>\n",
              "      <td>534.000000</td>\n",
              "      <td>97.000000</td>\n",
              "      <td>1322.000000</td>\n",
              "      <td>18.000000</td>\n",
              "      <td>5.000000</td>\n",
              "      <td>0.000000</td>\n",
              "      <td>24.000000</td>\n",
              "      <td>5.000000</td>\n",
              "      <td>106.000000</td>\n",
              "      <td>5.000000</td>\n",
              "      <td>162.000000</td>\n",
              "      <td>16.000000</td>\n",
              "      <td>60.000000</td>\n",
              "      <td>0.000000</td>\n",
              "      <td>6.000000</td>\n",
              "      <td>65.00000</td>\n",
              "      <td>1.0</td>\n",
              "      <td>188.000000</td>\n",
              "      <td>1.0</td>\n",
              "      <td>343.000000</td>\n",
              "      <td>13.000000</td>\n",
              "      <td>201.000000</td>\n",
              "      <td>9.000000</td>\n",
              "      <td>4.000000</td>\n",
              "      <td>147.000000</td>\n",
              "      <td>6.000000</td>\n",
              "      <td>71.000000</td>\n",
              "      <td>1243.000000</td>\n",
              "      <td>1.0</td>\n",
              "      <td>2010.000000</td>\n",
              "      <td>4.000000</td>\n",
              "    </tr>\n",
              "    <tr>\n",
              "      <th>50%</th>\n",
              "      <td>7355.000000</td>\n",
              "      <td>22.000000</td>\n",
              "      <td>523.000000</td>\n",
              "      <td>16.000000</td>\n",
              "      <td>544.000000</td>\n",
              "      <td>169.000000</td>\n",
              "      <td>1452.000000</td>\n",
              "      <td>51.000000</td>\n",
              "      <td>6.000000</td>\n",
              "      <td>0.000000</td>\n",
              "      <td>25.000000</td>\n",
              "      <td>5.000000</td>\n",
              "      <td>112.000000</td>\n",
              "      <td>7.000000</td>\n",
              "      <td>186.000000</td>\n",
              "      <td>19.000000</td>\n",
              "      <td>65.000000</td>\n",
              "      <td>0.000000</td>\n",
              "      <td>7.000000</td>\n",
              "      <td>71.00000</td>\n",
              "      <td>1.0</td>\n",
              "      <td>285.000000</td>\n",
              "      <td>1.0</td>\n",
              "      <td>820.000000</td>\n",
              "      <td>18.000000</td>\n",
              "      <td>320.000000</td>\n",
              "      <td>13.000000</td>\n",
              "      <td>5.000000</td>\n",
              "      <td>174.000000</td>\n",
              "      <td>20.000000</td>\n",
              "      <td>85.000000</td>\n",
              "      <td>2533.000000</td>\n",
              "      <td>1.0</td>\n",
              "      <td>2013.000000</td>\n",
              "      <td>6.000000</td>\n",
              "    </tr>\n",
              "    <tr>\n",
              "      <th>75%</th>\n",
              "      <td>9085.000000</td>\n",
              "      <td>26.000000</td>\n",
              "      <td>582.000000</td>\n",
              "      <td>18.000000</td>\n",
              "      <td>559.000000</td>\n",
              "      <td>320.000000</td>\n",
              "      <td>1593.000000</td>\n",
              "      <td>56.000000</td>\n",
              "      <td>6.000000</td>\n",
              "      <td>0.000000</td>\n",
              "      <td>26.000000</td>\n",
              "      <td>6.000000</td>\n",
              "      <td>122.000000</td>\n",
              "      <td>9.000000</td>\n",
              "      <td>192.000000</td>\n",
              "      <td>20.000000</td>\n",
              "      <td>67.000000</td>\n",
              "      <td>0.000000</td>\n",
              "      <td>8.000000</td>\n",
              "      <td>80.00000</td>\n",
              "      <td>1.0</td>\n",
              "      <td>405.000000</td>\n",
              "      <td>1.0</td>\n",
              "      <td>1096.000000</td>\n",
              "      <td>53.000000</td>\n",
              "      <td>433.000000</td>\n",
              "      <td>18.000000</td>\n",
              "      <td>5.000000</td>\n",
              "      <td>209.000000</td>\n",
              "      <td>25.000000</td>\n",
              "      <td>97.000000</td>\n",
              "      <td>3301.000000</td>\n",
              "      <td>1.0</td>\n",
              "      <td>2015.000000</td>\n",
              "      <td>9.000000</td>\n",
              "    </tr>\n",
              "    <tr>\n",
              "      <th>max</th>\n",
              "      <td>10674.000000</td>\n",
              "      <td>29.000000</td>\n",
              "      <td>728.000000</td>\n",
              "      <td>19.000000</td>\n",
              "      <td>588.000000</td>\n",
              "      <td>447.000000</td>\n",
              "      <td>1775.000000</td>\n",
              "      <td>70.000000</td>\n",
              "      <td>7.000000</td>\n",
              "      <td>1.000000</td>\n",
              "      <td>28.000000</td>\n",
              "      <td>8.000000</td>\n",
              "      <td>143.000000</td>\n",
              "      <td>22.000000</td>\n",
              "      <td>215.000000</td>\n",
              "      <td>23.000000</td>\n",
              "      <td>73.000000</td>\n",
              "      <td>1.000000</td>\n",
              "      <td>10.000000</td>\n",
              "      <td>86.00000</td>\n",
              "      <td>1.0</td>\n",
              "      <td>657.000000</td>\n",
              "      <td>1.0</td>\n",
              "      <td>1236.000000</td>\n",
              "      <td>79.000000</td>\n",
              "      <td>543.000000</td>\n",
              "      <td>22.000000</td>\n",
              "      <td>5.000000</td>\n",
              "      <td>251.000000</td>\n",
              "      <td>39.000000</td>\n",
              "      <td>116.000000</td>\n",
              "      <td>4410.000000</td>\n",
              "      <td>1.0</td>\n",
              "      <td>2018.000000</td>\n",
              "      <td>12.000000</td>\n",
              "    </tr>\n",
              "  </tbody>\n",
              "</table>\n",
              "</div>\n",
              "      <button class=\"colab-df-convert\" onclick=\"convertToInteractive('df-da98ec1d-cb93-407e-b9cc-87b8d7ada81c')\"\n",
              "              title=\"Convert this dataframe to an interactive table.\"\n",
              "              style=\"display:none;\">\n",
              "        \n",
              "  <svg xmlns=\"http://www.w3.org/2000/svg\" height=\"24px\"viewBox=\"0 0 24 24\"\n",
              "       width=\"24px\">\n",
              "    <path d=\"M0 0h24v24H0V0z\" fill=\"none\"/>\n",
              "    <path d=\"M18.56 5.44l.94 2.06.94-2.06 2.06-.94-2.06-.94-.94-2.06-.94 2.06-2.06.94zm-11 1L8.5 8.5l.94-2.06 2.06-.94-2.06-.94L8.5 2.5l-.94 2.06-2.06.94zm10 10l.94 2.06.94-2.06 2.06-.94-2.06-.94-.94-2.06-.94 2.06-2.06.94z\"/><path d=\"M17.41 7.96l-1.37-1.37c-.4-.4-.92-.59-1.43-.59-.52 0-1.04.2-1.43.59L10.3 9.45l-7.72 7.72c-.78.78-.78 2.05 0 2.83L4 21.41c.39.39.9.59 1.41.59.51 0 1.02-.2 1.41-.59l7.78-7.78 2.81-2.81c.8-.78.8-2.07 0-2.86zM5.41 20L4 18.59l7.72-7.72 1.47 1.35L5.41 20z\"/>\n",
              "  </svg>\n",
              "      </button>\n",
              "      \n",
              "  <style>\n",
              "    .colab-df-container {\n",
              "      display:flex;\n",
              "      flex-wrap:wrap;\n",
              "      gap: 12px;\n",
              "    }\n",
              "\n",
              "    .colab-df-convert {\n",
              "      background-color: #E8F0FE;\n",
              "      border: none;\n",
              "      border-radius: 50%;\n",
              "      cursor: pointer;\n",
              "      display: none;\n",
              "      fill: #1967D2;\n",
              "      height: 32px;\n",
              "      padding: 0 0 0 0;\n",
              "      width: 32px;\n",
              "    }\n",
              "\n",
              "    .colab-df-convert:hover {\n",
              "      background-color: #E2EBFA;\n",
              "      box-shadow: 0px 1px 2px rgba(60, 64, 67, 0.3), 0px 1px 3px 1px rgba(60, 64, 67, 0.15);\n",
              "      fill: #174EA6;\n",
              "    }\n",
              "\n",
              "    [theme=dark] .colab-df-convert {\n",
              "      background-color: #3B4455;\n",
              "      fill: #D2E3FC;\n",
              "    }\n",
              "\n",
              "    [theme=dark] .colab-df-convert:hover {\n",
              "      background-color: #434B5C;\n",
              "      box-shadow: 0px 1px 3px 1px rgba(0, 0, 0, 0.15);\n",
              "      filter: drop-shadow(0px 1px 2px rgba(0, 0, 0, 0.3));\n",
              "      fill: #FFFFFF;\n",
              "    }\n",
              "  </style>\n",
              "\n",
              "      <script>\n",
              "        const buttonEl =\n",
              "          document.querySelector('#df-da98ec1d-cb93-407e-b9cc-87b8d7ada81c button.colab-df-convert');\n",
              "        buttonEl.style.display =\n",
              "          google.colab.kernel.accessAllowed ? 'block' : 'none';\n",
              "\n",
              "        async function convertToInteractive(key) {\n",
              "          const element = document.querySelector('#df-da98ec1d-cb93-407e-b9cc-87b8d7ada81c');\n",
              "          const dataTable =\n",
              "            await google.colab.kernel.invokeFunction('convertToInteractive',\n",
              "                                                     [key], {});\n",
              "          if (!dataTable) return;\n",
              "\n",
              "          const docLinkHtml = 'Like what you see? Visit the ' +\n",
              "            '<a target=\"_blank\" href=https://colab.research.google.com/notebooks/data_table.ipynb>data table notebook</a>'\n",
              "            + ' to learn more about interactive tables.';\n",
              "          element.innerHTML = '';\n",
              "          dataTable['output_type'] = 'display_data';\n",
              "          await google.colab.output.renderOutput(dataTable, element);\n",
              "          const docLink = document.createElement('div');\n",
              "          docLink.innerHTML = docLinkHtml;\n",
              "          element.appendChild(docLink);\n",
              "        }\n",
              "      </script>\n",
              "    </div>\n",
              "  </div>\n",
              "  "
            ],
            "text/plain": [
              "       U.S. Crude Oil      Alabama  ...         Year       Month\n",
              "count       121.000000  121.000000  ...   121.000000  121.000000\n",
              "mean       7423.694215   22.958678  ...  2012.958678    6.495868\n",
              "std        1801.581601    3.773585  ...     2.950697    3.452352\n",
              "min        3974.000000   16.000000  ...  2008.000000    1.000000\n",
              "25%        5555.000000   20.000000  ...  2010.000000    4.000000\n",
              "50%        7355.000000   22.000000  ...  2013.000000    6.000000\n",
              "75%        9085.000000   26.000000  ...  2015.000000    9.000000\n",
              "max       10674.000000   29.000000  ...  2018.000000   12.000000\n",
              "\n",
              "[8 rows x 35 columns]"
            ]
          },
          "metadata": {},
          "execution_count": 27
        },
        {
          "output_type": "stream",
          "name": "stdout",
          "text": [
            "Warning: Total number of columns (35) exceeds max_columns (20) limiting to first (20) columns.\n"
          ]
        }
      ],
      "source": [
        "crude_oil_data.describe()"
      ]
    },
    {
      "cell_type": "code",
      "execution_count": 29,
      "metadata": {
        "colab": {
          "base_uri": "https://localhost:8080/",
          "height": 17
        },
        "id": "Z4GhVOv_Fivf",
        "outputId": "7230f5d5-a6b3-4092-b668-b3926456798c"
      },
      "outputs": [
        {
          "output_type": "display_data",
          "data": {
            "application/javascript": [
              "\n",
              "    async function download(id, filename, size) {\n",
              "      if (!google.colab.kernel.accessAllowed) {\n",
              "        return;\n",
              "      }\n",
              "      const div = document.createElement('div');\n",
              "      const label = document.createElement('label');\n",
              "      label.textContent = `Downloading \"${filename}\": `;\n",
              "      div.appendChild(label);\n",
              "      const progress = document.createElement('progress');\n",
              "      progress.max = size;\n",
              "      div.appendChild(progress);\n",
              "      document.body.appendChild(div);\n",
              "\n",
              "      const buffers = [];\n",
              "      let downloaded = 0;\n",
              "\n",
              "      const channel = await google.colab.kernel.comms.open(id);\n",
              "      // Send a message to notify the kernel that we're ready.\n",
              "      channel.send({})\n",
              "\n",
              "      for await (const message of channel.messages) {\n",
              "        // Send a message to notify the kernel that we're ready.\n",
              "        channel.send({})\n",
              "        if (message.buffers) {\n",
              "          for (const buffer of message.buffers) {\n",
              "            buffers.push(buffer);\n",
              "            downloaded += buffer.byteLength;\n",
              "            progress.value = downloaded;\n",
              "          }\n",
              "        }\n",
              "      }\n",
              "      const blob = new Blob(buffers, {type: 'application/binary'});\n",
              "      const a = document.createElement('a');\n",
              "      a.href = window.URL.createObjectURL(blob);\n",
              "      a.download = filename;\n",
              "      div.appendChild(a);\n",
              "      a.click();\n",
              "      div.remove();\n",
              "    }\n",
              "  "
            ],
            "text/plain": [
              "<IPython.core.display.Javascript object>"
            ]
          },
          "metadata": {}
        },
        {
          "output_type": "display_data",
          "data": {
            "application/javascript": [
              "download(\"download_8ee4fcd0-3835-4ee9-9a27-7bbbee9ced27\", \"crude_oil_data_processed-lab-2.csv\", 15073)"
            ],
            "text/plain": [
              "<IPython.core.display.Javascript object>"
            ]
          },
          "metadata": {}
        }
      ],
      "source": [
        "# Download the CSV to use it in the next demo\n",
        "from google.colab import files\n",
        "files.download('crude_oil_data_processed-lab-2.csv')"
      ]
    },
    {
      "cell_type": "code",
      "execution_count": null,
      "metadata": {
        "id": "btqETzUJFivf"
      },
      "outputs": [],
      "source": [
        ""
      ]
    },
    {
      "cell_type": "code",
      "execution_count": null,
      "metadata": {
        "id": "c-nAif6AFivg"
      },
      "outputs": [],
      "source": [
        ""
      ]
    },
    {
      "cell_type": "code",
      "execution_count": null,
      "metadata": {
        "id": "jS0bv_yBFivg"
      },
      "outputs": [],
      "source": [
        ""
      ]
    }
  ],
  "metadata": {
    "kernelspec": {
      "display_name": "Python 3",
      "language": "python",
      "name": "python3"
    },
    "language_info": {
      "codemirror_mode": {
        "name": "ipython",
        "version": 3
      },
      "file_extension": ".py",
      "mimetype": "text/x-python",
      "name": "python",
      "nbconvert_exporter": "python",
      "pygments_lexer": "ipython3",
      "version": "3.7.4"
    },
    "colab": {
      "name": "demo-01-LoadingAndCleaningData.ipynb",
      "provenance": []
    }
  },
  "nbformat": 4,
  "nbformat_minor": 0
}